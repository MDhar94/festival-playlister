{
 "cells": [
  {
   "cell_type": "markdown",
   "id": "96699bb8",
   "metadata": {},
   "source": [
    "# Playground"
   ]
  },
  {
   "cell_type": "markdown",
   "id": "18b17023",
   "metadata": {},
   "source": [
    "## Imports"
   ]
  },
  {
   "cell_type": "code",
   "execution_count": 3,
   "id": "f2fa3896",
   "metadata": {},
   "outputs": [],
   "source": [
    "import pandas as pd \n",
    "import numpy as np\n",
    "from bs4 import BeautifulSoup\n",
    "import requests"
   ]
  },
  {
   "cell_type": "markdown",
   "id": "dc1a5051",
   "metadata": {},
   "source": [
    "## Scraping Festival lineups"
   ]
  },
  {
   "cell_type": "code",
   "execution_count": 161,
   "id": "6c294595",
   "metadata": {},
   "outputs": [
    {
     "data": {
      "text/plain": [
       "['Parklife Festival 2023', 'Isle of Wight Festival 2023', 'Nocturne Live 2023']"
      ]
     },
     "execution_count": 161,
     "metadata": {},
     "output_type": "execute_result"
    }
   ],
   "source": [
    "festivals = soup.find_all(\"div\", class_=\"entry-title search-title\")\n",
    "\n",
    "festival_names = [festival.find('h2').find('a').text for festival in festivals if festival.find('h2') != None]\n",
    "\n",
    "festival_names[:3]"
   ]
  },
  {
   "cell_type": "code",
   "execution_count": 88,
   "id": "6ef8a53f",
   "metadata": {},
   "outputs": [
    {
     "data": {
      "text/plain": [
       "['Parklife-Festival-2023', 'Isle-of-Wight-Festival-2023', 'Nocturne-Live-2023']"
      ]
     },
     "execution_count": 88,
     "metadata": {},
     "output_type": "execute_result"
    }
   ],
   "source": [
    "festival_url_keys = ['-'.join([name for name in festival.split(' ')]) for festival in festival_names]\n",
    "\n",
    "festival_url_keys[:3]"
   ]
  },
  {
   "cell_type": "code",
   "execution_count": 144,
   "id": "52f33db7",
   "metadata": {},
   "outputs": [],
   "source": [
    "def get_festival_names():\n",
    "    \n",
    "    url = 'https://www.musicfestivalwizard.com/festival-guide/uk-festivals/'\n",
    "\n",
    "    HEADERS = {\n",
    "        'User-Agent':\n",
    "        'Mozilla/5.0 (iPad; CPU OS 12_2 like Mac OS X) AppleWebKit/605.1.15 (KHTML, like Gecko) Mobile/15E148'\n",
    "    }\n",
    "\n",
    "    response = requests.get(url,headers=HEADERS)\n",
    "\n",
    "    soup = BeautifulSoup(response.content, \"html.parser\")\n",
    "    \n",
    "    festivals = soup.find_all(\"div\", class_=\"entry-title search-title\")\n",
    "\n",
    "    festival_names = [festival.find('h2').find('a').text for festival in festivals if festival.find('h2') != None]\n",
    "    \n",
    "    festival_url_keys = ['-'.join([name for name in festival.split(' ')]) for festival in festival_names]\n",
    "\n",
    "    return festival_url_keys"
   ]
  },
  {
   "cell_type": "code",
   "execution_count": 146,
   "id": "e4241cd7",
   "metadata": {},
   "outputs": [],
   "source": [
    "festival_names = get_festival_names()"
   ]
  },
  {
   "cell_type": "code",
   "execution_count": 147,
   "id": "879bdc21",
   "metadata": {},
   "outputs": [
    {
     "data": {
      "text/plain": [
       "['Parklife-Festival-2023',\n",
       " 'Isle-of-Wight-Festival-2023',\n",
       " 'Nocturne-Live-2023',\n",
       " 'Black-Deer-Festival-2023',\n",
       " 'Belsonic-2023',\n",
       " 'Festival-People-2023',\n",
       " 'Glastonbury-Festival-2023',\n",
       " 'Outbreak-Fest-2023',\n",
       " 'British-Summer-Time-2023',\n",
       " 'Lytham-Festival-2023',\n",
       " 'Sounds-of-the-City-2023',\n",
       " 'El-Dorado-Festival-2023',\n",
       " 'Barn-on-the-Farm-2023',\n",
       " 'Love-Supreme-Festival-2023']"
      ]
     },
     "execution_count": 147,
     "metadata": {},
     "output_type": "execute_result"
    }
   ],
   "source": [
    "festival_names"
   ]
  },
  {
   "cell_type": "code",
   "execution_count": 142,
   "id": "a90c658d",
   "metadata": {},
   "outputs": [],
   "source": [
    "def get_festival_lineup(festival):\n",
    "\n",
    "    base_url = f'https://www.musicfestivalwizard.com/festivals/{festival}/'\n",
    "\n",
    "    HEADERS = {\n",
    "        'User-Agent':\n",
    "        'Mozilla/5.0 (iPad; CPU OS 12_2 like Mac OS X) AppleWebKit/605.1.15 (KHTML, like Gecko) Mobile/15E148'\n",
    "    }\n",
    "\n",
    "    response = requests.get(url=base_url, headers=HEADERS)\n",
    "\n",
    "    soup = BeautifulSoup(response.content, \"html.parser\")\n",
    "\n",
    "    artists = [\n",
    "        artist.text for artist in soup.find_all(\n",
    "            'div', class_=\"lineupblock\")[0].find_all('li')\n",
    "    ]\n",
    "\n",
    "    return artists\n"
   ]
  },
  {
   "cell_type": "code",
   "execution_count": 149,
   "id": "f5963508",
   "metadata": {},
   "outputs": [
    {
     "data": {
      "text/plain": [
       "['Emeli Sandé',\n",
       " 'Gabrielle',\n",
       " 'Gregory Porter',\n",
       " 'Lighthouse Family’s Tunde Baiyewu',\n",
       " 'Lionel Richie',\n",
       " 'Mica Millar',\n",
       " 'Pete Tong Ibiza Classics feat. Jules Buckley and The Essential Orchestra']"
      ]
     },
     "execution_count": 149,
     "metadata": {},
     "output_type": "execute_result"
    }
   ],
   "source": [
    "get_festival_lineup(festival_names[2])"
   ]
  },
  {
   "cell_type": "code",
   "execution_count": 150,
   "id": "9108a0dd",
   "metadata": {},
   "outputs": [],
   "source": [
    "def festivals_and_artists(festival_names):\n",
    "    \n",
    "    artists_dict = {}\n",
    "    \n",
    "    for festival in festival_names:\n",
    "        \n",
    "        lineup = get_festival_lineup(festival)\n",
    "        \n",
    "        artists_dict[festival] = lineup\n",
    "        \n",
    "    return artists_dict"
   ]
  },
  {
   "cell_type": "code",
   "execution_count": 151,
   "id": "f0990c70",
   "metadata": {},
   "outputs": [],
   "source": [
    "festival_dict = festivals_and_artists(get_festival_names())"
   ]
  },
  {
   "cell_type": "code",
   "execution_count": 160,
   "id": "028976d7",
   "metadata": {},
   "outputs": [
    {
     "name": "stdout",
     "output_type": "stream",
     "text": [
      "Parklife-Festival-2023 has 48 artists\n",
      "Isle-of-Wight-Festival-2023 has 23 artists\n",
      "Nocturne-Live-2023 has 7 artists\n",
      "Black-Deer-Festival-2023 has 35 artists\n",
      "Belsonic-2023 has 14 artists\n",
      "Festival-People-2023 has 23 artists\n",
      "Glastonbury-Festival-2023 has 54 artists\n",
      "Outbreak-Fest-2023 has 36 artists\n",
      "British-Summer-Time-2023 has 8 artists\n",
      "Lytham-Festival-2023 has 12 artists\n",
      "Sounds-of-the-City-2023 has 3 artists\n",
      "El-Dorado-Festival-2023 has 71 artists\n",
      "Barn-on-the-Farm-2023 has 43 artists\n",
      "Love-Supreme-Festival-2023 has 51 artists\n"
     ]
    }
   ],
   "source": [
    "for key in festival_dict.keys():\n",
    "    \n",
    "    num_artists = len(festival_dict[key])\n",
    "    \n",
    "    print(f\"{key} has {num_artists} artists\")"
   ]
  },
  {
   "cell_type": "code",
   "execution_count": null,
   "id": "970aa4d1",
   "metadata": {},
   "outputs": [],
   "source": []
  },
  {
   "cell_type": "code",
   "execution_count": null,
   "id": "8b1cf21c",
   "metadata": {},
   "outputs": [],
   "source": []
  },
  {
   "cell_type": "markdown",
   "id": "21b92d72",
   "metadata": {},
   "source": [
    "## Getting artist details"
   ]
  },
  {
   "cell_type": "code",
   "execution_count": null,
   "id": "2b0a5a30",
   "metadata": {},
   "outputs": [],
   "source": []
  },
  {
   "cell_type": "code",
   "execution_count": null,
   "id": "32c4ff75",
   "metadata": {},
   "outputs": [],
   "source": []
  },
  {
   "cell_type": "code",
   "execution_count": null,
   "id": "101543fc",
   "metadata": {},
   "outputs": [],
   "source": []
  },
  {
   "cell_type": "code",
   "execution_count": null,
   "id": "cb80cc74",
   "metadata": {},
   "outputs": [],
   "source": []
  },
  {
   "cell_type": "code",
   "execution_count": null,
   "id": "50d95c1e",
   "metadata": {},
   "outputs": [],
   "source": []
  },
  {
   "cell_type": "markdown",
   "id": "6b421d7c",
   "metadata": {},
   "source": [
    "## Model similar songs"
   ]
  },
  {
   "cell_type": "code",
   "execution_count": null,
   "id": "8737a16d",
   "metadata": {},
   "outputs": [],
   "source": []
  },
  {
   "cell_type": "code",
   "execution_count": null,
   "id": "5b6649d9",
   "metadata": {},
   "outputs": [],
   "source": []
  },
  {
   "cell_type": "code",
   "execution_count": null,
   "id": "43125c0a",
   "metadata": {},
   "outputs": [],
   "source": []
  },
  {
   "cell_type": "code",
   "execution_count": null,
   "id": "91f646de",
   "metadata": {},
   "outputs": [],
   "source": []
  },
  {
   "cell_type": "code",
   "execution_count": null,
   "id": "8250282b",
   "metadata": {},
   "outputs": [],
   "source": []
  }
 ],
 "metadata": {
  "kernelspec": {
   "display_name": "Python 3 (ipykernel)",
   "language": "python",
   "name": "python3"
  },
  "language_info": {
   "codemirror_mode": {
    "name": "ipython",
    "version": 3
   },
   "file_extension": ".py",
   "mimetype": "text/x-python",
   "name": "python",
   "nbconvert_exporter": "python",
   "pygments_lexer": "ipython3",
   "version": "3.10.6"
  },
  "toc": {
   "base_numbering": 1,
   "nav_menu": {},
   "number_sections": true,
   "sideBar": true,
   "skip_h1_title": false,
   "title_cell": "Table of Contents",
   "title_sidebar": "Contents",
   "toc_cell": false,
   "toc_position": {},
   "toc_section_display": true,
   "toc_window_display": false
  }
 },
 "nbformat": 4,
 "nbformat_minor": 5
}
