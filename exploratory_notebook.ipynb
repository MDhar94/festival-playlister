{
 "cells": [
  {
   "cell_type": "markdown",
   "id": "96699bb8",
   "metadata": {},
   "source": [
    "# Playground"
   ]
  },
  {
   "cell_type": "markdown",
   "id": "18b17023",
   "metadata": {},
   "source": [
    "## Imports"
   ]
  },
  {
   "cell_type": "code",
   "execution_count": 1,
   "id": "f2fa3896",
   "metadata": {},
   "outputs": [],
   "source": [
    "import pandas as pd \n",
    "from bs4 import BeautifulSoup\n",
    "import requests\n",
    "import re"
   ]
  },
  {
   "cell_type": "markdown",
   "id": "dc1a5051",
   "metadata": {
    "heading_collapsed": true
   },
   "source": [
    "## Scraping Festival lineups"
   ]
  },
  {
   "cell_type": "code",
   "execution_count": 2,
   "id": "df66fca0",
   "metadata": {
    "hidden": true
   },
   "outputs": [],
   "source": [
    "def get_festival_names():\n",
    "    \n",
    "    url = 'https://www.musicfestivalwizard.com/festival-guide/uk-festivals/'\n",
    "\n",
    "    HEADERS = {\n",
    "        'User-Agent':\n",
    "        'Mozilla/5.0 (iPad; CPU OS 12_2 like Mac OS X) AppleWebKit/605.1.15 (KHTML, like Gecko) Mobile/15E148'\n",
    "    }\n",
    "\n",
    "    response = requests.get(url,headers=HEADERS)\n",
    "\n",
    "    soup = BeautifulSoup(response.content, \"html.parser\")\n",
    "    \n",
    "    page_nums = soup.find_all('a',class_='page-numbers')\n",
    "    \n",
    "    page_num = [int(num.text) for num in page_nums if num.text.isdigit()][-1]\n",
    "    \n",
    "    festival_urls = []\n",
    "    \n",
    "    for i in range(page_num):\n",
    "        \n",
    "        page_url = f'https://www.musicfestivalwizard.com/festival-guide/uk-festivals/page/{i+1}/'\n",
    "        \n",
    "        response = requests.get(page_url,headers=HEADERS)\n",
    "        \n",
    "        soup = BeautifulSoup(response.content, \"html.parser\")\n",
    "\n",
    "        festivals = soup.find_all(\"div\", class_=\"entry-title search-title\")\n",
    "\n",
    "        festival_names = [festival.find('h2').find('a')['href'] for festival in festivals if festival.find('h2') != None]\n",
    "    \n",
    "        festival_urls += [re.findall(r'/.*/(.*)/', festival)[0] for festival in festival_names]\n",
    "\n",
    "    return festival_urls"
   ]
  },
  {
   "cell_type": "code",
   "execution_count": 3,
   "id": "028efb01",
   "metadata": {
    "hidden": true,
    "scrolled": true
   },
   "outputs": [],
   "source": [
    "festival_names = get_festival_names()"
   ]
  },
  {
   "cell_type": "code",
   "execution_count": 4,
   "id": "bda22058",
   "metadata": {
    "hidden": true
   },
   "outputs": [],
   "source": [
    "def get_festival_lineup(festival):\n",
    "\n",
    "    base_url = f'https://www.musicfestivalwizard.com/festivals/{festival}/'\n",
    "\n",
    "    HEADERS = {\n",
    "        'User-Agent':\n",
    "        'Mozilla/5.0 (iPad; CPU OS 12_2 like Mac OS X) AppleWebKit/605.1.15 (KHTML, like Gecko) Mobile/15E148'\n",
    "    }\n",
    "\n",
    "    response = requests.get(url=base_url, headers=HEADERS)\n",
    "        \n",
    "    soup = BeautifulSoup(response.content, \"html.parser\")\n",
    "    \n",
    "    if bool(soup.find_all('div', class_=\"lineupblock\")):\n",
    "    \n",
    "        artists = [\n",
    "            artist.text for artist in soup.find_all(\n",
    "                'div', class_=\"lineupblock\")[0].find_all('li')\n",
    "        ]\n",
    "\n",
    "        return artists\n",
    "    \n",
    "    else:\n",
    "        pass"
   ]
  },
  {
   "cell_type": "code",
   "execution_count": 5,
   "id": "45c7cc1e",
   "metadata": {
    "hidden": true
   },
   "outputs": [],
   "source": [
    "def festivals_and_artists(festival_names):\n",
    "    \n",
    "    artists_dict = {}\n",
    "    \n",
    "    for festival in festival_names:\n",
    "        \n",
    "        lineup = get_festival_lineup(festival)\n",
    "        \n",
    "        artists_dict[festival] = lineup\n",
    "        \n",
    "    return artists_dict"
   ]
  },
  {
   "cell_type": "code",
   "execution_count": 6,
   "id": "4b585c38",
   "metadata": {
    "hidden": true,
    "scrolled": false
   },
   "outputs": [],
   "source": [
    "festival_dict = festivals_and_artists(get_festival_names())"
   ]
  },
  {
   "cell_type": "code",
   "execution_count": 7,
   "id": "11018090",
   "metadata": {
    "hidden": true
   },
   "outputs": [],
   "source": [
    "festival_dict_clean = {k:v for k,v in festival_dict.items() if v}"
   ]
  },
  {
   "cell_type": "code",
   "execution_count": 10,
   "id": "898ddc9e",
   "metadata": {
    "hidden": true
   },
   "outputs": [],
   "source": [
    "# for key in festival_dict_clean.keys():\n",
    "    \n",
    "#     num_artists = len(festival_dict_clean[key])\n",
    "    \n",
    "#     print(f\"{key} has {num_artists} artists\")\n"
   ]
  },
  {
   "cell_type": "code",
   "execution_count": 19,
   "id": "970aa4d1",
   "metadata": {
    "hidden": true
   },
   "outputs": [],
   "source": [
    "festival_names = [key[:-5].replace('-',' ').title() for key in festival_dict_clean.keys()]"
   ]
  },
  {
   "cell_type": "code",
   "execution_count": null,
   "id": "8b1cf21c",
   "metadata": {
    "hidden": true
   },
   "outputs": [],
   "source": []
  },
  {
   "cell_type": "markdown",
   "id": "28b6d076",
   "metadata": {},
   "source": [
    "## Spotify API: Playlist -> data"
   ]
  },
  {
   "cell_type": "code",
   "execution_count": null,
   "id": "a07e1f9f",
   "metadata": {},
   "outputs": [],
   "source": []
  },
  {
   "cell_type": "code",
   "execution_count": null,
   "id": "223a3bd3",
   "metadata": {},
   "outputs": [],
   "source": []
  },
  {
   "cell_type": "code",
   "execution_count": null,
   "id": "8a62c41a",
   "metadata": {},
   "outputs": [],
   "source": []
  },
  {
   "cell_type": "code",
   "execution_count": null,
   "id": "0d4e8897",
   "metadata": {},
   "outputs": [],
   "source": []
  },
  {
   "cell_type": "markdown",
   "id": "21b92d72",
   "metadata": {},
   "source": [
    "## Getting artist details"
   ]
  },
  {
   "cell_type": "code",
   "execution_count": null,
   "id": "2b0a5a30",
   "metadata": {},
   "outputs": [],
   "source": []
  },
  {
   "cell_type": "code",
   "execution_count": null,
   "id": "32c4ff75",
   "metadata": {},
   "outputs": [],
   "source": []
  },
  {
   "cell_type": "code",
   "execution_count": null,
   "id": "101543fc",
   "metadata": {},
   "outputs": [],
   "source": []
  },
  {
   "cell_type": "code",
   "execution_count": null,
   "id": "cb80cc74",
   "metadata": {},
   "outputs": [],
   "source": []
  },
  {
   "cell_type": "code",
   "execution_count": null,
   "id": "50d95c1e",
   "metadata": {},
   "outputs": [],
   "source": []
  },
  {
   "cell_type": "markdown",
   "id": "6b421d7c",
   "metadata": {},
   "source": [
    "## Model similar songs"
   ]
  },
  {
   "cell_type": "code",
   "execution_count": null,
   "id": "8737a16d",
   "metadata": {},
   "outputs": [],
   "source": []
  },
  {
   "cell_type": "code",
   "execution_count": null,
   "id": "5b6649d9",
   "metadata": {},
   "outputs": [],
   "source": []
  },
  {
   "cell_type": "code",
   "execution_count": null,
   "id": "43125c0a",
   "metadata": {},
   "outputs": [],
   "source": []
  },
  {
   "cell_type": "code",
   "execution_count": null,
   "id": "91f646de",
   "metadata": {},
   "outputs": [],
   "source": []
  },
  {
   "cell_type": "code",
   "execution_count": null,
   "id": "8250282b",
   "metadata": {},
   "outputs": [],
   "source": []
  }
 ],
 "metadata": {
  "kernelspec": {
   "display_name": "Python 3 (ipykernel)",
   "language": "python",
   "name": "python3"
  },
  "language_info": {
   "codemirror_mode": {
    "name": "ipython",
    "version": 3
   },
   "file_extension": ".py",
   "mimetype": "text/x-python",
   "name": "python",
   "nbconvert_exporter": "python",
   "pygments_lexer": "ipython3",
   "version": "3.10.6"
  },
  "toc": {
   "base_numbering": 1,
   "nav_menu": {},
   "number_sections": true,
   "sideBar": true,
   "skip_h1_title": false,
   "title_cell": "Table of Contents",
   "title_sidebar": "Contents",
   "toc_cell": false,
   "toc_position": {},
   "toc_section_display": true,
   "toc_window_display": false
  }
 },
 "nbformat": 4,
 "nbformat_minor": 5
}
