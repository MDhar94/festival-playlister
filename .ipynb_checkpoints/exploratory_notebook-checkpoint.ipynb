{
 "cells": [
  {
   "cell_type": "markdown",
   "id": "96699bb8",
   "metadata": {},
   "source": [
    "# Playground"
   ]
  },
  {
   "cell_type": "markdown",
   "id": "18b17023",
   "metadata": {},
   "source": [
    "## Imports"
   ]
  },
  {
   "cell_type": "code",
   "execution_count": 222,
   "id": "f2fa3896",
   "metadata": {},
   "outputs": [],
   "source": [
    "import pandas as pd \n",
    "import numpy as np\n",
    "from bs4 import BeautifulSoup\n",
    "import requests\n",
    "import re"
   ]
  },
  {
   "cell_type": "markdown",
   "id": "dc1a5051",
   "metadata": {},
   "source": [
    "## Scraping Festival lineups"
   ]
  },
  {
   "cell_type": "code",
   "execution_count": 261,
   "id": "6ed42334",
   "metadata": {},
   "outputs": [],
   "source": [
    "def get_festival_names():\n",
    "    \n",
    "    url = 'https://www.musicfestivalwizard.com/festival-guide/uk-festivals/'\n",
    "\n",
    "    HEADERS = {\n",
    "        'User-Agent':\n",
    "        'Mozilla/5.0 (iPad; CPU OS 12_2 like Mac OS X) AppleWebKit/605.1.15 (KHTML, like Gecko) Mobile/15E148'\n",
    "    }\n",
    "\n",
    "    response = requests.get(url,headers=HEADERS)\n",
    "\n",
    "    soup = BeautifulSoup(response.content, \"html.parser\")\n",
    "    \n",
    "    page_num = [int(num.text) for num in page_nums if num.text.isdigit()][-1]\n",
    "    \n",
    "    festival_urls = []\n",
    "    \n",
    "    for i in range(page_num):\n",
    "        \n",
    "        page_url = f'https://www.musicfestivalwizard.com/festival-guide/uk-festivals/page/{i+1}/'\n",
    "        \n",
    "        response = requests.get(page_url,headers=HEADERS)\n",
    "        \n",
    "        soup = BeautifulSoup(response.content, \"html.parser\")\n",
    "\n",
    "        festivals = soup.find_all(\"div\", class_=\"entry-title search-title\")\n",
    "\n",
    "        festival_names = [festival.find('h2').find('a')['href'] for festival in festivals if festival.find('h2') != None]\n",
    "    \n",
    "        festival_urls += [re.findall(r'/.*/(.*)/', festival)[0] for festival in festival_names]\n",
    "\n",
    "    return festival_urls"
   ]
  },
  {
   "cell_type": "code",
   "execution_count": 262,
   "id": "954d9058",
   "metadata": {},
   "outputs": [],
   "source": [
    "festival_names = get_festival_names()"
   ]
  },
  {
   "cell_type": "code",
   "execution_count": 279,
   "id": "3a5e5461",
   "metadata": {},
   "outputs": [],
   "source": [
    "def get_festival_lineup(festival):\n",
    "\n",
    "    base_url = f'https://www.musicfestivalwizard.com/festivals/{festival}/'\n",
    "\n",
    "    HEADERS = {\n",
    "        'User-Agent':\n",
    "        'Mozilla/5.0 (iPad; CPU OS 12_2 like Mac OS X) AppleWebKit/605.1.15 (KHTML, like Gecko) Mobile/15E148'\n",
    "    }\n",
    "\n",
    "    response = requests.get(url=base_url, headers=HEADERS)\n",
    "        \n",
    "    soup = BeautifulSoup(response.content, \"html.parser\")\n",
    "    \n",
    "    \n",
    "    if bool(soup.find_all('div', class_=\"lineupblock\")):\n",
    "    \n",
    "        artists = [\n",
    "            artist.text for artist in soup.find_all(\n",
    "                'div', class_=\"lineupblock\")[0].find_all('li')\n",
    "        ]\n",
    "\n",
    "        return artists\n",
    "    \n",
    "    else:\n",
    "        pass"
   ]
  },
  {
   "cell_type": "code",
   "execution_count": 264,
   "id": "ebd46eac",
   "metadata": {},
   "outputs": [],
   "source": [
    "def festivals_and_artists(festival_names):\n",
    "    \n",
    "    artists_dict = {}\n",
    "    \n",
    "    for festival in festival_names:\n",
    "        \n",
    "        print(f\"Scraping data for {festival}\")\n",
    "        \n",
    "        lineup = get_festival_lineup(festival)\n",
    "        \n",
    "        artists_dict[festival] = lineup\n",
    "        \n",
    "    return artists_dict"
   ]
  },
  {
   "cell_type": "code",
   "execution_count": 276,
   "id": "6dfc49e9",
   "metadata": {},
   "outputs": [
    {
     "data": {
      "text/plain": [
       "False"
      ]
     },
     "execution_count": 276,
     "metadata": {},
     "output_type": "execute_result"
    }
   ],
   "source": [
    "bool(soup.find_all('div', class_=\"lineupblock\"))"
   ]
  },
  {
   "cell_type": "code",
   "execution_count": 280,
   "id": "71c14f03",
   "metadata": {
    "scrolled": false
   },
   "outputs": [
    {
     "name": "stdout",
     "output_type": "stream",
     "text": [
      "Scraping data for parklife-festival-2023\n",
      "Scraping data for isle-of-wight-festival-2023\n",
      "Scraping data for nocturne-live-2023\n",
      "Scraping data for black-deer-festival-2023\n",
      "Scraping data for belsonic-2023\n",
      "Scraping data for festival-people-2023\n",
      "Scraping data for glastonbury-festival-2023\n",
      "Scraping data for outbreak-fest-2023\n",
      "Scraping data for british-summer-time-2023\n",
      "Scraping data for sounds-of-the-city-2023\n",
      "Scraping data for lytham-festival-2023\n",
      "Scraping data for barn-on-the-farm-2023\n",
      "Scraping data for el-dorado-festival-2023\n",
      "Scraping data for love-supreme-festival-2023\n",
      "Scraping data for maverick-festival-2023\n",
      "Scraping data for 2000trees-2023\n",
      "Scraping data for henley-festival-2023\n",
      "Scraping data for nass-festival-2023\n",
      "Scraping data for noisily-festival-2023\n",
      "Scraping data for timber-festival-2023\n",
      "Scraping data for community-festival-2023\n",
      "Scraping data for mostly-jazz-funk-soul-festival-2023\n",
      "Scraping data for wireless-festival-2023\n",
      "Scraping data for trnsmt-festival-2023\n",
      "Scraping data for the-beat-herder-festival-2023\n",
      "Scraping data for kew-the-music-2023\n",
      "Scraping data for readipop-festival-2023\n",
      "Scraping data for also-2023\n",
      "Scraping data for big-love-festival-2023\n",
      "Scraping data for kaleidoscope-festival-2023\n",
      "Scraping data for bluedot-festival-2023\n",
      "Scraping data for latitude-festival-2023\n",
      "Scraping data for nozstock-the-hidden-valley-2023\n",
      "Scraping data for standon-calling-2023\n",
      "Scraping data for secret-garden-party-2023\n",
      "Scraping data for doune-the-rabbit-hole-2023\n",
      "Scraping data for junction-2-festival-2023\n",
      "Scraping data for pennfest-2023\n",
      "Scraping data for rewind-festival-scotland-2023\n",
      "Scraping data for tramlines-2023\n",
      "Scraping data for truck-festival-2023\n",
      "Scraping data for elrow-town-london-2023\n",
      "Scraping data for splendour-festival-2023\n",
      "Scraping data for chagstock-2023\n",
      "Scraping data for belladrum-tartan-heart-festival-2023\n",
      "Scraping data for cambridge-folk-festival-2023\n",
      "Scraping data for rock-oyster-festival-2023\n",
      "Scraping data for kendal-calling-2023\n",
      "Scraping data for womad-festival-2023\n",
      "Scraping data for deer-shed-festival-2023\n",
      "Scraping data for y-not-festival-2023\n",
      "Scraping data for south-facing-festival-2023\n",
      "Scraping data for made-festival-2023\n",
      "Scraping data for great-british-beer-festival-2023\n"
     ]
    },
    {
     "ename": "IndexError",
     "evalue": "list index out of range",
     "output_type": "error",
     "traceback": [
      "\u001b[0;31m---------------------------------------------------------------------------\u001b[0m",
      "\u001b[0;31mIndexError\u001b[0m                                Traceback (most recent call last)",
      "Cell \u001b[0;32mIn [280], line 1\u001b[0m\n\u001b[0;32m----> 1\u001b[0m festival_dict \u001b[38;5;241m=\u001b[39m festivals_and_artists(get_festival_names())\n",
      "Cell \u001b[0;32mIn [264], line 9\u001b[0m, in \u001b[0;36mfestivals_and_artists\u001b[0;34m(festival_names)\u001b[0m\n\u001b[1;32m      5\u001b[0m \u001b[38;5;28;01mfor\u001b[39;00m festival \u001b[38;5;129;01min\u001b[39;00m festival_names:\n\u001b[1;32m      7\u001b[0m     \u001b[38;5;28mprint\u001b[39m(\u001b[38;5;124mf\u001b[39m\u001b[38;5;124m\"\u001b[39m\u001b[38;5;124mScraping data for \u001b[39m\u001b[38;5;132;01m{\u001b[39;00mfestival\u001b[38;5;132;01m}\u001b[39;00m\u001b[38;5;124m\"\u001b[39m)\n\u001b[0;32m----> 9\u001b[0m     lineup \u001b[38;5;241m=\u001b[39m \u001b[43mget_festival_lineup\u001b[49m\u001b[43m(\u001b[49m\u001b[43mfestival\u001b[49m\u001b[43m)\u001b[49m\n\u001b[1;32m     11\u001b[0m     artists_dict[festival] \u001b[38;5;241m=\u001b[39m lineup\n\u001b[1;32m     13\u001b[0m \u001b[38;5;28;01mreturn\u001b[39;00m artists_dict\n",
      "Cell \u001b[0;32mIn [279], line 15\u001b[0m, in \u001b[0;36mget_festival_lineup\u001b[0;34m(festival)\u001b[0m\n\u001b[1;32m     10\u001b[0m response \u001b[38;5;241m=\u001b[39m requests\u001b[38;5;241m.\u001b[39mget(url\u001b[38;5;241m=\u001b[39mbase_url, headers\u001b[38;5;241m=\u001b[39mHEADERS)\n\u001b[1;32m     12\u001b[0m soup \u001b[38;5;241m=\u001b[39m BeautifulSoup(response\u001b[38;5;241m.\u001b[39mcontent, \u001b[38;5;124m\"\u001b[39m\u001b[38;5;124mhtml.parser\u001b[39m\u001b[38;5;124m\"\u001b[39m)\n\u001b[1;32m     14\u001b[0m artists \u001b[38;5;241m=\u001b[39m [\n\u001b[0;32m---> 15\u001b[0m     artist\u001b[38;5;241m.\u001b[39mtext \u001b[38;5;28;01mfor\u001b[39;00m artist \u001b[38;5;129;01min\u001b[39;00m \u001b[43msoup\u001b[49m\u001b[38;5;241;43m.\u001b[39;49m\u001b[43mfind_all\u001b[49m\u001b[43m(\u001b[49m\n\u001b[1;32m     16\u001b[0m \u001b[43m        \u001b[49m\u001b[38;5;124;43m'\u001b[39;49m\u001b[38;5;124;43mdiv\u001b[39;49m\u001b[38;5;124;43m'\u001b[39;49m\u001b[43m,\u001b[49m\u001b[43m \u001b[49m\u001b[43mclass_\u001b[49m\u001b[38;5;241;43m=\u001b[39;49m\u001b[38;5;124;43m\"\u001b[39;49m\u001b[38;5;124;43mlineupblock\u001b[39;49m\u001b[38;5;124;43m\"\u001b[39;49m\u001b[43m)\u001b[49m\u001b[43m[\u001b[49m\u001b[38;5;241;43m0\u001b[39;49m\u001b[43m]\u001b[49m\u001b[38;5;241m.\u001b[39mfind_all(\u001b[38;5;124m'\u001b[39m\u001b[38;5;124mli\u001b[39m\u001b[38;5;124m'\u001b[39m) \u001b[38;5;28;01mif\u001b[39;00m \u001b[38;5;28mbool\u001b[39m(soup\u001b[38;5;241m.\u001b[39mfind_all(\u001b[38;5;124m'\u001b[39m\u001b[38;5;124mdiv\u001b[39m\u001b[38;5;124m'\u001b[39m, class_\u001b[38;5;241m=\u001b[39m\u001b[38;5;124m\"\u001b[39m\u001b[38;5;124mlineupblock\u001b[39m\u001b[38;5;124m\"\u001b[39m))\n\u001b[1;32m     17\u001b[0m ]\n\u001b[1;32m     19\u001b[0m \u001b[38;5;28;01mreturn\u001b[39;00m artists\n",
      "\u001b[0;31mIndexError\u001b[0m: list index out of range"
     ]
    }
   ],
   "source": [
    "festival_dict = festivals_and_artists(get_festival_names())"
   ]
  },
  {
   "cell_type": "code",
   "execution_count": 160,
   "id": "d27a44d2",
   "metadata": {},
   "outputs": [
    {
     "name": "stdout",
     "output_type": "stream",
     "text": [
      "Parklife-Festival-2023 has 48 artists\n",
      "Isle-of-Wight-Festival-2023 has 23 artists\n",
      "Nocturne-Live-2023 has 7 artists\n",
      "Black-Deer-Festival-2023 has 35 artists\n",
      "Belsonic-2023 has 14 artists\n",
      "Festival-People-2023 has 23 artists\n",
      "Glastonbury-Festival-2023 has 54 artists\n",
      "Outbreak-Fest-2023 has 36 artists\n",
      "British-Summer-Time-2023 has 8 artists\n",
      "Lytham-Festival-2023 has 12 artists\n",
      "Sounds-of-the-City-2023 has 3 artists\n",
      "El-Dorado-Festival-2023 has 71 artists\n",
      "Barn-on-the-Farm-2023 has 43 artists\n",
      "Love-Supreme-Festival-2023 has 51 artists\n"
     ]
    }
   ],
   "source": [
    "for key in festival_dict.keys():\n",
    "    \n",
    "    num_artists = len(festival_dict[key])\n",
    "    \n",
    "    print(f\"{key} has {num_artists} artists\")"
   ]
  },
  {
   "cell_type": "code",
   "execution_count": null,
   "id": "970aa4d1",
   "metadata": {},
   "outputs": [],
   "source": []
  },
  {
   "cell_type": "code",
   "execution_count": null,
   "id": "8b1cf21c",
   "metadata": {},
   "outputs": [],
   "source": []
  },
  {
   "cell_type": "markdown",
   "id": "21b92d72",
   "metadata": {},
   "source": [
    "## Getting artist details"
   ]
  },
  {
   "cell_type": "code",
   "execution_count": null,
   "id": "2b0a5a30",
   "metadata": {},
   "outputs": [],
   "source": []
  },
  {
   "cell_type": "code",
   "execution_count": null,
   "id": "32c4ff75",
   "metadata": {},
   "outputs": [],
   "source": []
  },
  {
   "cell_type": "code",
   "execution_count": null,
   "id": "101543fc",
   "metadata": {},
   "outputs": [],
   "source": []
  },
  {
   "cell_type": "code",
   "execution_count": null,
   "id": "cb80cc74",
   "metadata": {},
   "outputs": [],
   "source": []
  },
  {
   "cell_type": "code",
   "execution_count": null,
   "id": "50d95c1e",
   "metadata": {},
   "outputs": [],
   "source": []
  },
  {
   "cell_type": "markdown",
   "id": "6b421d7c",
   "metadata": {},
   "source": [
    "## Model similar songs"
   ]
  },
  {
   "cell_type": "code",
   "execution_count": null,
   "id": "8737a16d",
   "metadata": {},
   "outputs": [],
   "source": []
  },
  {
   "cell_type": "code",
   "execution_count": null,
   "id": "5b6649d9",
   "metadata": {},
   "outputs": [],
   "source": []
  },
  {
   "cell_type": "code",
   "execution_count": null,
   "id": "43125c0a",
   "metadata": {},
   "outputs": [],
   "source": []
  },
  {
   "cell_type": "code",
   "execution_count": null,
   "id": "91f646de",
   "metadata": {},
   "outputs": [],
   "source": []
  },
  {
   "cell_type": "code",
   "execution_count": null,
   "id": "8250282b",
   "metadata": {},
   "outputs": [],
   "source": []
  }
 ],
 "metadata": {
  "kernelspec": {
   "display_name": "Python 3 (ipykernel)",
   "language": "python",
   "name": "python3"
  },
  "language_info": {
   "codemirror_mode": {
    "name": "ipython",
    "version": 3
   },
   "file_extension": ".py",
   "mimetype": "text/x-python",
   "name": "python",
   "nbconvert_exporter": "python",
   "pygments_lexer": "ipython3",
   "version": "3.10.6"
  },
  "toc": {
   "base_numbering": 1,
   "nav_menu": {},
   "number_sections": true,
   "sideBar": true,
   "skip_h1_title": false,
   "title_cell": "Table of Contents",
   "title_sidebar": "Contents",
   "toc_cell": false,
   "toc_position": {},
   "toc_section_display": true,
   "toc_window_display": false
  }
 },
 "nbformat": 4,
 "nbformat_minor": 5
}
